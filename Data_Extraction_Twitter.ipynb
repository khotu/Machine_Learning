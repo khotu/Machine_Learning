{
 "cells": [
  {
   "cell_type": "code",
   "execution_count": 9,
   "metadata": {},
   "outputs": [],
   "source": [
    "from tweepy import OAuthHandler\n",
    "from tweepy import StreamListener\n",
    "from tweepy import Stream\n",
    "import csv\n",
    "import pandas"
   ]
  },
  {
   "cell_type": "code",
   "execution_count": 2,
   "metadata": {},
   "outputs": [],
   "source": [
    "consumer_key = '---------------'\n",
    "consumer_secret = '-----------------'\n",
    "access_token = '------------------'\n",
    "access_token_secret = '--------------------'"
   ]
  },
  {
   "cell_type": "code",
   "execution_count": 4,
   "metadata": {},
   "outputs": [],
   "source": [
    "auth = OAuthHandler(consumer_key, consumer_secret)\n",
    "auth.set_access_token(access_token, access_token_secret)"
   ]
  },
  {
   "cell_type": "code",
   "execution_count": 5,
   "metadata": {},
   "outputs": [],
   "source": [
    "class tweet_Listner(StreamListener):\n",
    "\n",
    "    def on_status(self, status):       \n",
    "        if (status.retweeted):\n",
    "            return True\n",
    "        \n",
    "        User_id = status.id_str\n",
    "        User_Name = status.user.screen_name\n",
    "        User_Description = status.user.description\n",
    "        Tweet = status.text\n",
    "        loc = status.user.location        \n",
    "        followers = status.user.followers_count    \n",
    "        with open('Streamed_Tweets.csv', mode= 'a', newline='\\n', encoding='utf-8' ) as f:\n",
    "            writer = csv.writer(f)\n",
    "            writer.writerow([User_id, User_Name, User_Description, Tweet, loc, followers])\n",
    "        \n",
    "    def on_error(self, status):\n",
    "        print(status)\n",
    "        \n"
   ]
  },
  {
   "cell_type": "code",
   "execution_count": 7,
   "metadata": {},
   "outputs": [],
   "source": [
    "listner = tweet_Listner()\n",
    "stream = Stream(auth=auth, listener=listner,)"
   ]
  },
  {
   "cell_type": "code",
   "execution_count": null,
   "metadata": {},
   "outputs": [],
   "source": [
    "stream.filter(track=['CAA', 'CAA_NRCProtests', 'KaagazNaheeDikhayenge', 'RejectCAA_NRC_NPR', 'CAAProtests',\n",
    "                    'CAA_NRC_NPR_वापस_लो', 'NRC_CAA_Protest', 'ShaheenBagh'])"
   ]
  },
  {
   "cell_type": "code",
   "execution_count": 11,
   "metadata": {},
   "outputs": [],
   "source": [
    "df = pandas.read_csv('C:\\\\Users\\\\Sunny\\\\Work on python\\\\Streamed_Tweets.csv', delimiter=',', sep=',', )"
   ]
  },
  {
   "cell_type": "code",
   "execution_count": 12,
   "metadata": {},
   "outputs": [],
   "source": [
    "df.columns = ['User_id', 'User_Name', 'User_Description', 'Tweet', 'loc', 'followers']"
   ]
  },
  {
   "cell_type": "code",
   "execution_count": 13,
   "metadata": {},
   "outputs": [
    {
     "data": {
      "text/html": [
       "<div>\n",
       "<style scoped>\n",
       "    .dataframe tbody tr th:only-of-type {\n",
       "        vertical-align: middle;\n",
       "    }\n",
       "\n",
       "    .dataframe tbody tr th {\n",
       "        vertical-align: top;\n",
       "    }\n",
       "\n",
       "    .dataframe thead th {\n",
       "        text-align: right;\n",
       "    }\n",
       "</style>\n",
       "<table border=\"1\" class=\"dataframe\">\n",
       "  <thead>\n",
       "    <tr style=\"text-align: right;\">\n",
       "      <th></th>\n",
       "      <th>User_id</th>\n",
       "      <th>User_Name</th>\n",
       "      <th>User_Description</th>\n",
       "      <th>Tweet</th>\n",
       "      <th>loc</th>\n",
       "      <th>followers</th>\n",
       "    </tr>\n",
       "  </thead>\n",
       "  <tbody>\n",
       "    <tr>\n",
       "      <th>0</th>\n",
       "      <td>1221025081784066049</td>\n",
       "      <td>pravinchandra</td>\n",
       "      <td>Software Professional Surat</td>\n",
       "      <td>RT @NagarJitendra: विश्व मे इस कदर कोई झुठ नही...</td>\n",
       "      <td>India,Cameroon,Nigeria,Uganda,</td>\n",
       "      <td>2025</td>\n",
       "    </tr>\n",
       "    <tr>\n",
       "      <th>1</th>\n",
       "      <td>1221025081905860608</td>\n",
       "      <td>vishaldadhwal</td>\n",
       "      <td>NaN</td>\n",
       "      <td>RT @sudhirchaudhary: शाहीन बाग़ किसी के बाप का...</td>\n",
       "      <td>NaN</td>\n",
       "      <td>114</td>\n",
       "    </tr>\n",
       "    <tr>\n",
       "      <th>2</th>\n",
       "      <td>1221025082316746752</td>\n",
       "      <td>akmehta63</td>\n",
       "      <td>NaN</td>\n",
       "      <td>RT @manakgupta: “लोकतंत्र के दायरे में”\\n“संवि...</td>\n",
       "      <td>NaN</td>\n",
       "      <td>328</td>\n",
       "    </tr>\n",
       "    <tr>\n",
       "      <th>3</th>\n",
       "      <td>1221025082950053893</td>\n",
       "      <td>Arunabh_ch</td>\n",
       "      <td>NaN</td>\n",
       "      <td>RT @Babu_Bhaiyaa: PM @NarendraModi &amp;amp; @Amit...</td>\n",
       "      <td>NaN</td>\n",
       "      <td>182</td>\n",
       "    </tr>\n",
       "    <tr>\n",
       "      <th>4</th>\n",
       "      <td>1221025083512119296</td>\n",
       "      <td>risky2210</td>\n",
       "      <td>HINDU NATIONALIST. Mahakal ka Bhakt. Jai Bhole...</td>\n",
       "      <td>RT @ModiBharosa: आग उगलता आस्तीन का सांप \\n\\n#...</td>\n",
       "      <td>Haryana</td>\n",
       "      <td>339</td>\n",
       "    </tr>\n",
       "  </tbody>\n",
       "</table>\n",
       "</div>"
      ],
      "text/plain": [
       "               User_id      User_Name  \\\n",
       "0  1221025081784066049  pravinchandra   \n",
       "1  1221025081905860608  vishaldadhwal   \n",
       "2  1221025082316746752      akmehta63   \n",
       "3  1221025082950053893     Arunabh_ch   \n",
       "4  1221025083512119296      risky2210   \n",
       "\n",
       "                                    User_Description  \\\n",
       "0                        Software Professional Surat   \n",
       "1                                                NaN   \n",
       "2                                                NaN   \n",
       "3                                                NaN   \n",
       "4  HINDU NATIONALIST. Mahakal ka Bhakt. Jai Bhole...   \n",
       "\n",
       "                                               Tweet  \\\n",
       "0  RT @NagarJitendra: विश्व मे इस कदर कोई झुठ नही...   \n",
       "1  RT @sudhirchaudhary: शाहीन बाग़ किसी के बाप का...   \n",
       "2  RT @manakgupta: “लोकतंत्र के दायरे में”\\n“संवि...   \n",
       "3  RT @Babu_Bhaiyaa: PM @NarendraModi &amp; @Amit...   \n",
       "4  RT @ModiBharosa: आग उगलता आस्तीन का सांप \\n\\n#...   \n",
       "\n",
       "                              loc  followers  \n",
       "0  India,Cameroon,Nigeria,Uganda,       2025  \n",
       "1                             NaN        114  \n",
       "2                             NaN        328  \n",
       "3                             NaN        182  \n",
       "4                         Haryana        339  "
      ]
     },
     "execution_count": 13,
     "metadata": {},
     "output_type": "execute_result"
    }
   ],
   "source": [
    "df.head()"
   ]
  },
  {
   "cell_type": "code",
   "execution_count": null,
   "metadata": {},
   "outputs": [],
   "source": []
  }
 ],
 "metadata": {
  "kernelspec": {
   "display_name": "Python 3",
   "language": "python",
   "name": "python3"
  },
  "language_info": {
   "codemirror_mode": {
    "name": "ipython",
    "version": 3
   },
   "file_extension": ".py",
   "mimetype": "text/x-python",
   "name": "python",
   "nbconvert_exporter": "python",
   "pygments_lexer": "ipython3",
   "version": "3.7.3"
  }
 },
 "nbformat": 4,
 "nbformat_minor": 4
}
